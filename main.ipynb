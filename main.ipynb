{
 "cells": [
  {
   "cell_type": "markdown",
   "id": "bcb68e98-3e77-4fec-8be5-b2c1c7333d3a",
   "metadata": {},
   "source": [
    "># $\\text{House Prices Advanced Regression Techniques}\\newline$\n",
    "\n",
    "$\\text{In this noteebook, I will use RandomForestRegressor for predict the SalePrice of eah house}$"
   ]
  },
  {
   "cell_type": "markdown",
   "id": "b92f81f4-1da8-4f0f-97a0-61ae9409eefd",
   "metadata": {},
   "source": [
    "### $\\text{Importation des frameworks utiles}$\n",
    ">### $\\text{Python necessary frameworks importing}$"
   ]
  },
  {
   "cell_type": "code",
   "execution_count": 1,
   "id": "5d1a8c20-33be-4ed6-981d-5adafdd2ce25",
   "metadata": {},
   "outputs": [],
   "source": [
    "import numpy as np\n",
    "import pandas as pd\n",
    "import matplotlib.pyplot as plt\n",
    "import seaborn as sns\n",
    "from sklearn.ensemble import RandomForestRegressor\n",
    "from sklearn.model_selection import train_test_split\n",
    "from sklearn.metrics import accuracy_score, mean_absolute_error"
   ]
  },
  {
   "cell_type": "markdown",
   "id": "461952a6-5242-4f1c-83cb-e417e108cdc5",
   "metadata": {},
   "source": [
    "## $\\text{Chargement des données de test et d'entrainement de notre future model}$\n",
    ">## $\\text{test and train data loading}$"
   ]
  },
  {
   "cell_type": "code",
   "execution_count": 2,
   "id": "bcb439ff-8798-4eff-8e0c-092495722f03",
   "metadata": {},
   "outputs": [],
   "source": [
    "train = pd.read_csv('data/train.csv')\n",
    "test = pd.read_csv('data/test.csv')"
   ]
  },
  {
   "cell_type": "markdown",
   "id": "5abcece9-9805-42c8-8f9f-3c93094d4c98",
   "metadata": {},
   "source": [
    "## $\\text{Duplication des données por ne pas abimer les données originales}$"
   ]
  },
  {
   "cell_type": "code",
   "execution_count": 3,
   "id": "eab3fb99-0e1a-423d-b8ac-a5cdff39d898",
   "metadata": {},
   "outputs": [],
   "source": [
    "clean_train = train.copy()\n",
    "clean_test = test.copy()"
   ]
  },
  {
   "cell_type": "markdown",
   "id": "b720ef4c-db95-453a-be5d-97fbdfd9ba11",
   "metadata": {},
   "source": [
    "## $\\text{Transformation des données en chaînes de caractères en numériques et \\\\ forcé les exceptions en Nan}$"
   ]
  },
  {
   "cell_type": "code",
   "execution_count": 4,
   "id": "7fccbcd9-0402-4246-9048-41a7386bd6c2",
   "metadata": {},
   "outputs": [],
   "source": [
    "cols_train = clean_train.columns\n",
    "for col_train in cols_train:\n",
    "    clean_train[col_train] = pd.to_numeric(clean_train[col_train], errors='coerce')\n",
    "\n",
    "cols_test = clean_test.columns\n",
    "for col_test in cols_test:\n",
    "    clean_test[col_test] = pd.to_numeric(clean_test[col_test], errors='coerce')"
   ]
  },
  {
   "cell_type": "markdown",
   "id": "cc01081b-eeaf-4e5b-a26a-943ea1e5a9c8",
   "metadata": {},
   "source": [
    "## $\\text{Recolte des colonnes qui ont des données en Nan dans des listes}$"
   ]
  },
  {
   "cell_type": "code",
   "execution_count": 5,
   "id": "717f8670-e6d3-4409-9c55-85f57fc4e1c5",
   "metadata": {},
   "outputs": [],
   "source": [
    "unfull_cols_train = []\n",
    "unfull_cols_test = []\n",
    "\n",
    "for col_train in cols_train:\n",
    "    if clean_train[col_train].isnull().sum() >= 1:\n",
    "        unfull_cols_train.append(col_train)\n",
    "        \n",
    "for col_test in cols_test:\n",
    "    if clean_train[col_test].isnull().sum() >= 1:\n",
    "        unfull_cols_test.append(col_test)"
   ]
  },
  {
   "cell_type": "markdown",
   "id": "96cc7f5e-5553-4ca7-be09-a11ee5feb0a8",
   "metadata": {},
   "source": [
    "## $\\text{On efface les colonnes recoltées avant}$"
   ]
  },
  {
   "cell_type": "code",
   "execution_count": 6,
   "id": "65bcc882-9956-405a-ac90-c538d05c1469",
   "metadata": {},
   "outputs": [],
   "source": [
    "clean_train.drop(unfull_cols_train, axis=1, inplace=True)\n",
    "clean_test.drop(unfull_cols_test, axis=1, inplace=True)"
   ]
  },
  {
   "cell_type": "markdown",
   "id": "5568d959-37b6-4e2a-afda-85a8113535ec",
   "metadata": {},
   "source": [
    "## $\\text{Affichage des informations}$"
   ]
  },
  {
   "cell_type": "code",
   "execution_count": 7,
   "id": "86a9f2a6-4255-4d9c-87ce-f466a014d833",
   "metadata": {},
   "outputs": [
    {
     "name": "stdout",
     "output_type": "stream",
     "text": [
      "<class 'pandas.core.frame.DataFrame'>\n",
      "RangeIndex: 1460 entries, 0 to 1459\n",
      "Data columns (total 35 columns):\n",
      " #   Column         Non-Null Count  Dtype\n",
      "---  ------         --------------  -----\n",
      " 0   Id             1460 non-null   int64\n",
      " 1   MSSubClass     1460 non-null   int64\n",
      " 2   LotArea        1460 non-null   int64\n",
      " 3   OverallQual    1460 non-null   int64\n",
      " 4   OverallCond    1460 non-null   int64\n",
      " 5   YearBuilt      1460 non-null   int64\n",
      " 6   YearRemodAdd   1460 non-null   int64\n",
      " 7   BsmtFinSF1     1460 non-null   int64\n",
      " 8   BsmtFinSF2     1460 non-null   int64\n",
      " 9   BsmtUnfSF      1460 non-null   int64\n",
      " 10  TotalBsmtSF    1460 non-null   int64\n",
      " 11  1stFlrSF       1460 non-null   int64\n",
      " 12  2ndFlrSF       1460 non-null   int64\n",
      " 13  LowQualFinSF   1460 non-null   int64\n",
      " 14  GrLivArea      1460 non-null   int64\n",
      " 15  BsmtFullBath   1460 non-null   int64\n",
      " 16  BsmtHalfBath   1460 non-null   int64\n",
      " 17  FullBath       1460 non-null   int64\n",
      " 18  HalfBath       1460 non-null   int64\n",
      " 19  BedroomAbvGr   1460 non-null   int64\n",
      " 20  KitchenAbvGr   1460 non-null   int64\n",
      " 21  TotRmsAbvGrd   1460 non-null   int64\n",
      " 22  Fireplaces     1460 non-null   int64\n",
      " 23  GarageCars     1460 non-null   int64\n",
      " 24  GarageArea     1460 non-null   int64\n",
      " 25  WoodDeckSF     1460 non-null   int64\n",
      " 26  OpenPorchSF    1460 non-null   int64\n",
      " 27  EnclosedPorch  1460 non-null   int64\n",
      " 28  3SsnPorch      1460 non-null   int64\n",
      " 29  ScreenPorch    1460 non-null   int64\n",
      " 30  PoolArea       1460 non-null   int64\n",
      " 31  MiscVal        1460 non-null   int64\n",
      " 32  MoSold         1460 non-null   int64\n",
      " 33  YrSold         1460 non-null   int64\n",
      " 34  SalePrice      1460 non-null   int64\n",
      "dtypes: int64(35)\n",
      "memory usage: 399.3 KB\n"
     ]
    }
   ],
   "source": [
    "clean_train.info()"
   ]
  },
  {
   "cell_type": "markdown",
   "id": "6f007b04-166e-47e4-8efa-12d6172a6ace",
   "metadata": {},
   "source": [
    "## $\\text{Affichage des informations}$"
   ]
  },
  {
   "cell_type": "code",
   "execution_count": 8,
   "id": "91799cdd-8d1e-4d17-92e1-4cb0c8e7e1da",
   "metadata": {},
   "outputs": [
    {
     "name": "stdout",
     "output_type": "stream",
     "text": [
      "<class 'pandas.core.frame.DataFrame'>\n",
      "RangeIndex: 1459 entries, 0 to 1458\n",
      "Data columns (total 34 columns):\n",
      " #   Column         Non-Null Count  Dtype  \n",
      "---  ------         --------------  -----  \n",
      " 0   Id             1459 non-null   int64  \n",
      " 1   MSSubClass     1459 non-null   int64  \n",
      " 2   LotArea        1459 non-null   int64  \n",
      " 3   OverallQual    1459 non-null   int64  \n",
      " 4   OverallCond    1459 non-null   int64  \n",
      " 5   YearBuilt      1459 non-null   int64  \n",
      " 6   YearRemodAdd   1459 non-null   int64  \n",
      " 7   BsmtFinSF1     1458 non-null   float64\n",
      " 8   BsmtFinSF2     1458 non-null   float64\n",
      " 9   BsmtUnfSF      1458 non-null   float64\n",
      " 10  TotalBsmtSF    1458 non-null   float64\n",
      " 11  1stFlrSF       1459 non-null   int64  \n",
      " 12  2ndFlrSF       1459 non-null   int64  \n",
      " 13  LowQualFinSF   1459 non-null   int64  \n",
      " 14  GrLivArea      1459 non-null   int64  \n",
      " 15  BsmtFullBath   1457 non-null   float64\n",
      " 16  BsmtHalfBath   1457 non-null   float64\n",
      " 17  FullBath       1459 non-null   int64  \n",
      " 18  HalfBath       1459 non-null   int64  \n",
      " 19  BedroomAbvGr   1459 non-null   int64  \n",
      " 20  KitchenAbvGr   1459 non-null   int64  \n",
      " 21  TotRmsAbvGrd   1459 non-null   int64  \n",
      " 22  Fireplaces     1459 non-null   int64  \n",
      " 23  GarageCars     1458 non-null   float64\n",
      " 24  GarageArea     1458 non-null   float64\n",
      " 25  WoodDeckSF     1459 non-null   int64  \n",
      " 26  OpenPorchSF    1459 non-null   int64  \n",
      " 27  EnclosedPorch  1459 non-null   int64  \n",
      " 28  3SsnPorch      1459 non-null   int64  \n",
      " 29  ScreenPorch    1459 non-null   int64  \n",
      " 30  PoolArea       1459 non-null   int64  \n",
      " 31  MiscVal        1459 non-null   int64  \n",
      " 32  MoSold         1459 non-null   int64  \n",
      " 33  YrSold         1459 non-null   int64  \n",
      "dtypes: float64(8), int64(26)\n",
      "memory usage: 387.7 KB\n"
     ]
    }
   ],
   "source": [
    "clean_test.info()"
   ]
  },
  {
   "cell_type": "markdown",
   "id": "be87d6ba-b803-448c-a32d-8d83d97e7cf4",
   "metadata": {},
   "source": [
    "## $\\text{Visulisation du priix des maisons par rapport à la taille se celle-ci}$"
   ]
  },
  {
   "cell_type": "code",
   "execution_count": 9,
   "id": "0d6fdae4-1675-41c6-b59d-ecd44f642a8f",
   "metadata": {},
   "outputs": [
    {
     "data": {
      "text/plain": [
       "<Axes: xlabel='LotArea', ylabel='SalePrice'>"
      ]
     },
     "execution_count": 9,
     "metadata": {},
     "output_type": "execute_result"
    },
    {
     "data": {
      "image/png": "[encoded data removed]",
      "text/plain": [
       "<Figure size 640x480 with 1 Axes>"
      ]
     },
     "metadata": {},
     "output_type": "display_data"
    }
   ],
   "source": [
    "sns.scatterplot(x='LotArea', y='SalePrice', data=clean_train, c='r')"
   ]
  },
  {
   "cell_type": "markdown",
   "id": "004c2c20-4557-4f78-b141-a5a197d54cec",
   "metadata": {},
   "source": [
    "## $\\text{Entraînement du model et verification de son score}$"
   ]
  },
  {
   "cell_type": "code",
   "execution_count": 39,
   "id": "2cd7546e-4292-4445-a14c-65838b616b17",
   "metadata": {},
   "outputs": [
    {
     "name": "stdout",
     "output_type": "stream",
     "text": [
      "MAE: 6502.764225729601\n",
      "The model's score of precision is: 0.9822009406314807\n"
     ]
    }
   ],
   "source": [
    "X = clean_train.drop('SalePrice', axis=1)\n",
    "y = clean_train.SalePrice\n",
    "\n",
    "#X_train, X_test, y_train, y_test = train_test_split(X, y, random_state=1)\n",
    "\n",
    "model = RandomForestRegressor(n_estimators=230)\n",
    "model.fit(X, y)\n",
    "pred_val = model.predict(X)\n",
    "\n",
    "score_mean = mean_absolute_error(y, pred_val)\n",
    "score = model.score(X, y)\n",
    "L.append(score)\n",
    "\n",
    "print(f\"MAE: {score_mean}\")\n",
    "print(f\"The model's score of precision is: {score}\")"
   ]
  },
  {
   "cell_type": "markdown",
   "id": "454fd852-c019-4a73-9b78-5b8b48188f87",
   "metadata": {},
   "source": [
    "## $\\text{Utilisaton du model pour predire le prix des maisons sur les données test}$"
   ]
  },
  {
   "cell_type": "code",
   "execution_count": 41,
   "id": "f39c9ccf-97f0-448f-a689-4737c521a204",
   "metadata": {},
   "outputs": [],
   "source": [
    "X = clean_test.copy()\n",
    "\n",
    "predictions = model.predict(X)\n",
    "\n",
    "# Sauvegarder uniquement les colonnes 'Id' et 'SalePrice' dans le fichier CSV\n",
    "output = pd.DataFrame({'Id': clean_test['Id'], 'SalePrice': predictions})\n",
    "output[['Id', 'SalePrice']].to_csv('submit.csv', index=False)"
   ]
  },
  {
   "cell_type": "code",
   "execution_count": 38,
   "id": "d921526c-52b3-44a6-b3f7-5ba600117f01",
   "metadata": {},
   "outputs": [
    {
     "data": {
      "text/plain": [
       "Id               0\n",
       "MSSubClass       0\n",
       "LotArea          0\n",
       "OverallQual      0\n",
       "OverallCond      0\n",
       "YearBuilt        0\n",
       "YearRemodAdd     0\n",
       "BsmtFinSF1       1\n",
       "BsmtFinSF2       1\n",
       "BsmtUnfSF        1\n",
       "TotalBsmtSF      1\n",
       "1stFlrSF         0\n",
       "2ndFlrSF         0\n",
       "LowQualFinSF     0\n",
       "GrLivArea        0\n",
       "BsmtFullBath     2\n",
       "BsmtHalfBath     2\n",
       "FullBath         0\n",
       "HalfBath         0\n",
       "BedroomAbvGr     0\n",
       "KitchenAbvGr     0\n",
       "TotRmsAbvGrd     0\n",
       "Fireplaces       0\n",
       "GarageCars       1\n",
       "GarageArea       1\n",
       "WoodDeckSF       0\n",
       "OpenPorchSF      0\n",
       "EnclosedPorch    0\n",
       "3SsnPorch        0\n",
       "ScreenPorch      0\n",
       "PoolArea         0\n",
       "MiscVal          0\n",
       "MoSold           0\n",
       "YrSold           0\n",
       "dtype: int64"
      ]
     },
     "execution_count": 38,
     "metadata": {},
     "output_type": "execute_result"
    }
   ],
   "source": [
    "X.isnull().sum()"
   ]
  },
  {
   "cell_type": "code",
   "execution_count": null,
   "id": "03b93e42-a090-4054-85ec-dc9a5c68661b",
   "metadata": {},
   "outputs": [],
   "source": []
  }
 ],
 "metadata": {
  "kernelspec": {
   "display_name": "Python 3 (ipykernel)",
   "language": "python",
   "name": "python3"
  },
  "language_info": {
   "codemirror_mode": {
    "name": "ipython",
    "version": 3
   },
   "file_extension": ".py",
   "mimetype": "text/x-python",
   "name": "python",
   "nbconvert_exporter": "python",
   "pygments_lexer": "ipython3",
   "version": "3.12.3"
  }
 },
 "nbformat": 4,
 "nbformat_minor": 5
}
